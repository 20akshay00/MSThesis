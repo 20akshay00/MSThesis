{
 "cells": [
  {
   "cell_type": "code",
   "execution_count": 2,
   "metadata": {},
   "outputs": [
    {
     "name": "stderr",
     "output_type": "stream",
     "text": [
      "\u001b[32m\u001b[1m  Activating\u001b[22m\u001b[39m project at `C:\\Users\\saksh\\.julia\\environments\\v1.7`\n"
     ]
    }
   ],
   "source": [
    "using Pkg\n",
    "Pkg.activate()\n",
    "using SparseArrays, LinearAlgebra, Plots, LaTeXStrings\n",
    "using KrylovKit: eigsolve\n",
    "\n",
    "theme(:lime)"
   ]
  },
  {
   "cell_type": "code",
   "execution_count": 3,
   "metadata": {},
   "outputs": [
    {
     "data": {
      "text/plain": [
       "generate_basis (generic function with 1 method)"
      ]
     },
     "metadata": {},
     "output_type": "display_data"
    }
   ],
   "source": [
    "hilbert_dim(k, n) = binomial(k + n - 1, n - 1)\n",
    "\n",
    "function generate_basis(N, L)\n",
    "    if L > 1\n",
    "        basis = zeros(Int16, (hilbert_dim(N, L), L))\n",
    "        j = 1\n",
    "    \n",
    "        for n in 0:N\n",
    "            d = hilbert_dim(n, L - 1)\n",
    "            basis[j:(j + d - 1), 1] .= (N - n)\n",
    "            basis[j:(j + d - 1), 2:end] = generate_basis(n, L - 1)\n",
    "            j += d\n",
    "        end\n",
    "        \n",
    "    else\n",
    "        basis = [N]\n",
    "    end\n",
    "\n",
    "    return basis\n",
    "end"
   ]
  },
  {
   "cell_type": "code",
   "execution_count": 11,
   "metadata": {},
   "outputs": [
    {
     "data": {
      "text/plain": [
       "generate_hamiltonian (generic function with 1 method)"
      ]
     },
     "metadata": {},
     "output_type": "display_data"
    }
   ],
   "source": [
    "function hop(state, i, j)\n",
    "    res_state = copy(state)\n",
    "    res_state[i] += 1\n",
    "    res_state[j] -= 1\n",
    "    return res_state\n",
    "end\n",
    "\n",
    "# tags to label the basis states\n",
    "tag(state) = sum(sqrt.(100 .* (1:length(state)) .+ 3) .* state)\n",
    "unzip(arr) = map(x -> getfield.(arr, x), fieldnames(eltype(arr)))\n",
    "\n",
    "function generate_kinetic(t, basis)\n",
    "    D, L = size(basis)\n",
    "    basis_tags = tag.(eachslice(basis, dims = 1)) # generate tags for each basis\n",
    "    inds, basis_tags = sortperm(basis_tags), sort(basis_tags) # sorting tag-list for efficient searching\n",
    "\n",
    "    H_kin = Dict{Tuple{Int64, Int64}, Float64}() # store sparse values; (index) -> val\n",
    "\n",
    "    for v in 1:D # iterate through basis vectors\n",
    "        state = basis[v, :] # get vth basis state \n",
    "\n",
    "        for j in 1:(L-1) # iterate through states (hopping) \n",
    "            if state[j] > 0 \n",
    "                i = mod1(j + 1, L) # Periodic BC\n",
    "                u = inds[searchsortedfirst(basis_tags, tag(hop(state, i, j)))]\n",
    "                H_kin[(u, v)] = get(H_kin, (u, v), 0.) - t * ((state[i] + 1) * state[j]) ^ 0.5\n",
    "            \n",
    "                i = mod1(j - 1, L) # Periodic BC\n",
    "                u = inds[searchsortedfirst(basis_tags, tag(hop(state, i, j)))]\n",
    "                H_kin[(u, v)] = get(H_kin, (u, v), 0.) - t * ((state[i] + 1) * state[j]) ^ 0.5\n",
    "            end\n",
    "        end\n",
    "    end\n",
    "\n",
    "    return sparse(unzip(keys(H_kin))..., collect(values(H_kin)))\n",
    "end\n",
    "\n",
    "generate_interaction(U, basis) = spdiagm(0.5 .* U .* sum(basis .* (basis .- 1), dims = 2) |> vec)\n",
    "\n",
    "generate_number(mu, basis) = spdiagm(mu .* sum(basis, dims = 2) |> vec)\n",
    "\n",
    "generate_hamiltonian(t, U, mu, basis) = generate_kinetic(t, basis) + generate_interaction(U, basis) - generate_number(mu, basis)"
   ]
  },
  {
   "cell_type": "code",
   "execution_count": 5,
   "metadata": {},
   "outputs": [
    {
     "data": {
      "text/plain": [
       "generate_a_dag (generic function with 1 method)"
      ]
     },
     "metadata": {},
     "output_type": "display_data"
    }
   ],
   "source": [
    "function a_lower(state, i)\n",
    "    res_state = copy(state)\n",
    "    res_state[i] -= 1\n",
    "    return res_state\n",
    "end\n",
    "\n",
    "function a_raise(state, i)\n",
    "    res_state = copy(state)\n",
    "    res_state[i] += 1\n",
    "    return res_state\n",
    "end\n",
    "\n",
    "function generate_a(basis, j)\n",
    "    D, L = size(basis)\n",
    "    basis_tags = tag.(eachslice(basis, dims = 1)) # generate tags for each basis\n",
    "    inds, basis_tags = sortperm(basis_tags), sort(basis_tags) # sorting tag-list for efficient searching\n",
    "\n",
    "    a_mat = Dict{Tuple{Int64, Int64}, Float64}() # store sparse values; (index) -> val\n",
    "\n",
    "    for v in 1:D # iterate through basis vectors\n",
    "        state = basis[v, :] # get vth basis state \n",
    "\n",
    "        if state[j] > 0 \n",
    "            u = inds[searchsortedfirst(basis_tags, tag(a_lower(state, j)))]\n",
    "            a_mat[(u, v)] = get(a_mat, (u, v), 0.) + sqrt(state[j])\n",
    "        end\n",
    "    end\n",
    "\n",
    "    return sparse(unzip(keys(a_mat))..., collect(values(a_mat)))\n",
    "end\n",
    "\n",
    "function generate_a_dag(basis, j)\n",
    "    D, L = size(basis)\n",
    "    basis_tags = tag.(eachslice(basis, dims = 1)) # generate tags for each basis\n",
    "    inds, basis_tags = sortperm(basis_tags), sort(basis_tags) # sorting tag-list for efficient searching\n",
    "\n",
    "    a_mat = Dict{Tuple{Int64, Int64}, Float64}() # store sparse values; (index) -> val\n",
    "\n",
    "    for v in 1:D # iterate through basis vectors\n",
    "        state = basis[v, :] # get vth basis state \n",
    "\n",
    "        u = searchsortedfirst(basis_tags, tag(a_raise(state, j)))\n",
    "\n",
    "        if(u < length(basis_tags) + 1) # raised state may be outside our truncated basis state\n",
    "            u = inds[u]\n",
    "            a_mat[(u, v)] = get(a_mat, (u, v), 0.) + sqrt(state[j] + 1)\n",
    "        end\n",
    "    end\n",
    "\n",
    "    return sparse(unzip(keys(a_mat))..., collect(values(a_mat)))\n",
    "end"
   ]
  },
  {
   "cell_type": "code",
   "execution_count": 37,
   "metadata": {},
   "outputs": [
    {
     "data": {
      "text/plain": [
       "3×9 SparseMatrixCSC{Float64, Int64} with 6 stored entries:\n",
       "  ⋅   1.0   ⋅   1.41421  1.0   ⋅   1.73205   ⋅        ⋅ \n",
       "  ⋅    ⋅    ⋅    ⋅        ⋅    ⋅    ⋅       1.41421   ⋅ \n",
       "  ⋅    ⋅    ⋅    ⋅        ⋅    ⋅    ⋅        ⋅       1.0"
      ]
     },
     "metadata": {},
     "output_type": "display_data"
    }
   ],
   "source": [
    "generate_a(generate_basis(3, 3), 2)"
   ]
  },
  {
   "cell_type": "code",
   "execution_count": 6,
   "metadata": {},
   "outputs": [
    {
     "data": {
      "text/plain": [
       "generate_fock_hamiltonian (generic function with 1 method)"
      ]
     },
     "metadata": {},
     "output_type": "display_data"
    }
   ],
   "source": [
    "function generate_fock_hamiltonian(t, U, mu, n_max, num_sites)\n",
    "    basis = []\n",
    "    hamiltonians = []\n",
    "    for n in 1:n_max\n",
    "        push!(basis, generate_basis(n, num_sites))\n",
    "        push!(hamiltonians, generate_hamiltonian(t, U, mu, basis[n]))\n",
    "    end\n",
    "\n",
    "    return vcat(basis...), blockdiag(hamiltonians...)\n",
    "end"
   ]
  },
  {
   "cell_type": "code",
   "execution_count": 8,
   "metadata": {},
   "outputs": [],
   "source": [
    "basis, H = generate_fock_hamiltonian(0.01, 1, 2, 3, 3);"
   ]
  },
  {
   "cell_type": "code",
   "execution_count": 9,
   "metadata": {},
   "outputs": [
    {
     "data": {
      "text/plain": [
       "19×19 SparseMatrixCSC{Float64, Int64} with 79 stored entries:\n",
       "⠿⢇⣀⠀⠀⠀⠀⠀⠀⠀\n",
       "⠀⠘⣟⣽⡂⠀⠀⠀⠀⠀\n",
       "⠀⠀⠈⠈⢱⣶⢤⡀⠀⠀\n",
       "⠀⠀⠀⠀⠀⠳⡻⢎⡳⠄\n",
       "⠀⠀⠀⠀⠀⠀⠙⠎⠻⠆"
      ]
     },
     "metadata": {},
     "output_type": "display_data"
    }
   ],
   "source": [
    "H"
   ]
  },
  {
   "cell_type": "code",
   "execution_count": null,
   "metadata": {},
   "outputs": [],
   "source": []
  }
 ],
 "metadata": {
  "kernelspec": {
   "display_name": "Julia 1.7.1",
   "language": "julia",
   "name": "julia-1.7"
  },
  "language_info": {
   "file_extension": ".jl",
   "mimetype": "application/julia",
   "name": "julia",
   "version": "1.7.1"
  },
  "orig_nbformat": 4
 },
 "nbformat": 4,
 "nbformat_minor": 2
}
