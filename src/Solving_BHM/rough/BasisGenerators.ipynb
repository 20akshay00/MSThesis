{
 "cells": [
  {
   "cell_type": "code",
   "execution_count": 2,
   "metadata": {},
   "outputs": [],
   "source": [
    "using Combinatorics"
   ]
  },
  {
   "cell_type": "code",
   "execution_count": 63,
   "metadata": {},
   "outputs": [
    {
     "data": {
      "text/plain": [
       "lpartitions (generic function with 1 method)"
      ]
     },
     "metadata": {},
     "output_type": "display_data"
    }
   ],
   "source": [
    "function lpermutations(a)\n",
    "    b = Vector{typeof(a)}()\n",
    "    sort!(a)\n",
    "    n = length(a)\n",
    "    \n",
    "    while(true)\n",
    "        push!(b, copy(a))    \n",
    "        j = n - 1 \n",
    "        \n",
    "        while(a[j] >= a[j+1])\n",
    "            j -= 1\n",
    "            j == 0 && return(b)\n",
    "        end\n",
    "\n",
    "        l = n\n",
    "\n",
    "        while(a[j] >= a[l])\n",
    "            l -= 1\n",
    "        end\n",
    "\n",
    "        a[l], a[j] = a[j], a[l]\n",
    "        k = j+1\n",
    "        l = n\n",
    "\n",
    "        while(k < l)\n",
    "            a[l], a[k] = a[k], a[l]\n",
    "            k += 1\n",
    "            l -= 1\n",
    "        end\n",
    "    end\n",
    "end  \n",
    "\n",
    "function resize_!(x, m)\n",
    "    [x; zeros(Int, m - length(x))]\n",
    "end\n",
    "  \n",
    "function lpartitions(n,m)\n",
    "    result = []\n",
    "    \n",
    "    for i in partitions(n)\n",
    "        append!(result, lpermutations(resize_!(i, m)))\n",
    "    end\n",
    "\n",
    "    result\n",
    "end \n",
    "\n",
    "# sort(lpartitions(3, 3), rev = true)"
   ]
  },
  {
   "cell_type": "code",
   "execution_count": 64,
   "metadata": {},
   "outputs": [
    {
     "data": {
      "text/plain": [
       "nsumk (generic function with 1 method)"
      ]
     },
     "metadata": {},
     "output_type": "display_data"
    }
   ],
   "source": [
    "function nsumk(k, n)\n",
    "    m = binomial(k + n - 1, n - 1);\n",
    "    d1 = zeros(Int16, m, 1);\n",
    "    d2 = collect(combinations(collect((1:(k + n - 1))), n - 1));\n",
    "    d2 = convert(Array{Int16, 2}, hcat(d2...)');\n",
    "    d3 = ones(Int16, m, 1) * (k + n);\n",
    "    dividers = [d1 d2 d3];\n",
    "    \n",
    "    return reverse(diff(dividers, dims = 2) .- 1, dims = 1)\n",
    "end"
   ]
  },
  {
   "cell_type": "code",
   "execution_count": 3,
   "metadata": {},
   "outputs": [
    {
     "data": {
      "text/plain": [
       "gen_basis (generic function with 1 method)"
      ]
     },
     "metadata": {},
     "output_type": "display_data"
    }
   ],
   "source": [
    "dim_hil(k, n) = binomial(k + n - 1, n - 1)\n",
    "\n",
    "function gen_basis(N, L)\n",
    "    if L > 1\n",
    "        basis = zeros(Int16, (dim_hil(N, L), L))\n",
    "\n",
    "        j = 1\n",
    "    \n",
    "        for n in 0:N\n",
    "            d = dim_hil(n, L - 1)\n",
    "            basis[j:(j + d - 1), 1] .= (N - n)\n",
    "            basis[j:(j + d - 1), 2:end] = gen_basis(n, L - 1)\n",
    "            j += d\n",
    "        end\n",
    "    \n",
    "    else\n",
    "        basis = [N]\n",
    "    end\n",
    "\n",
    "    return basis\n",
    "end"
   ]
  }
 ],
 "metadata": {
  "kernelspec": {
   "display_name": "Julia 1.7.1",
   "language": "julia",
   "name": "julia-1.7"
  },
  "language_info": {
   "file_extension": ".jl",
   "mimetype": "application/julia",
   "name": "julia",
   "version": "1.7.1"
  },
  "orig_nbformat": 4
 },
 "nbformat": 4,
 "nbformat_minor": 2
}
