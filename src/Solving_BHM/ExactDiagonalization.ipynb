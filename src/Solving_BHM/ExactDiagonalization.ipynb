{
 "cells": [
  {
   "cell_type": "code",
   "execution_count": 23,
   "metadata": {},
   "outputs": [],
   "source": [
    "using Combinatorics, SparseArrays, Statistics, Arpack"
   ]
  },
  {
   "cell_type": "code",
   "execution_count": 6,
   "metadata": {},
   "outputs": [
    {
     "data": {
      "text/plain": [
       "generate_basis (generic function with 1 method)"
      ]
     },
     "metadata": {},
     "output_type": "display_data"
    }
   ],
   "source": [
    "hilbert_dim(k, n) = binomial(k + n - 1, n - 1)\n",
    "\n",
    "function generate_basis(N, L)\n",
    "    if L > 1\n",
    "        basis = zeros(Int16, (hilbert_dim(N, L), L))\n",
    "        j = 1\n",
    "    \n",
    "        for n in 0:N\n",
    "            d = hilbert_dim(n, L - 1)\n",
    "            basis[j:(j + d - 1), 1] .= (N - n)\n",
    "            basis[j:(j + d - 1), 2:end] = generate_basis(n, L - 1)\n",
    "            j += d\n",
    "        end\n",
    "        \n",
    "    else\n",
    "        basis = [N]\n",
    "    end\n",
    "\n",
    "    return basis\n",
    "end"
   ]
  },
  {
   "cell_type": "code",
   "execution_count": 14,
   "metadata": {},
   "outputs": [
    {
     "data": {
      "text/plain": [
       "generate_hamiltonian (generic function with 1 method)"
      ]
     },
     "metadata": {},
     "output_type": "display_data"
    }
   ],
   "source": [
    "function hop(state, i, j)\n",
    "    res_state = copy(state)\n",
    "    res_state[i] += 1\n",
    "    res_state[j] -= 1\n",
    "    return res_state\n",
    "end\n",
    "\n",
    "# tags to label the basis states\n",
    "tag(state) = sum(sqrt.(100 .* (1:length(state)) .+ 3) .* state)\n",
    "unzip(arr) = map(x -> getfield.(arr, x), fieldnames(eltype(arr)))\n",
    "\n",
    "function generate_kinetic(t, basis)\n",
    "    D, L = size(basis)\n",
    "    basis_tags = tag.(eachslice(basis, dims = 1)) # generate tags for each basis\n",
    "    inds, basis_tags = sortperm(basis_tags), sort(basis_tags) # sorting tag-list to reduce complexity\n",
    "\n",
    "    H_kin = Dict{Tuple{Int64, Int64}, Float64}()\n",
    "\n",
    "    for v in 1:D # iterate through basis vectors\n",
    "        state = basis[v, :] # get vth basis state \n",
    "\n",
    "        for j in 1:L # iterate through states (hopping) \n",
    "            if state[j] > 0 \n",
    "                i = mod1(j + 1, L) # Periodic BC\n",
    "                u = inds[searchsortedfirst(basis_tags, tag(hop(state, i, j)))]\n",
    "                H_kin[(u, v)] = get(H_kin, (u, v), 0.) - t * ((state[i] + 1) * state[j]) ^ 0.5\n",
    "            \n",
    "                i = mod1(j - 1, L) # Periodic BC\n",
    "                u = inds[searchsortedfirst(basis_tags, tag(hop(state, i, j)))]\n",
    "                H_kin[(u, v)] = get(H_kin, (u, v), 0.) - t * ((state[i] + 1) * state[j]) ^ 0.5\n",
    "            end\n",
    "        end\n",
    "    end\n",
    "\n",
    "    return sparse(unzip(keys(H_kin))..., collect(values(H_kin)))\n",
    "end\n",
    "\n",
    "generate_interaction(U, basis) = spdiagm(0.5 .* U .* sum(basis .* (basis .- 1), dims = 2) |> vec)\n",
    "\n",
    "generate_hamiltonian(t, U, basis) = generate_kinetic(t, basis) + generate_interaction(U, basis)"
   ]
  },
  {
   "cell_type": "code",
   "execution_count": 25,
   "metadata": {},
   "outputs": [],
   "source": [
    "basis = generate_basis(6, 6);"
   ]
  },
  {
   "cell_type": "code",
   "execution_count": 26,
   "metadata": {},
   "outputs": [
    {
     "data": {
      "text/plain": [
       "462×462 SparseMatrixCSC{Float64, Int64} with 3024 stored entries:\n",
       "⢿⣷⢶⡤⣄⠀⠀⠀⠀⠀⠀⠀⠀⠀⠀⠀⠀⠀⠀⠀⠀⠀⠀⠀⠀⠀⠀⠀⠀⠀⠀⠀⠀⠀⠀⠀⠀⠀⠀⠀\n",
       "⠘⡷⢿⣷⡄⠙⢝⠲⢤⣀⠀⠀⠀⠀⠀⠀⠀⠀⠀⠀⠀⠀⠀⠀⠀⠀⠀⠀⠀⠀⠀⠀⠀⠀⠀⠀⠀⠀⠀⠀\n",
       "⠀⠙⣄⠉⠛⣤⣄⠑⠀⠈⠓⢤⢤⣀⠀⠀⠀⠀⠀⠀⠀⠀⠀⠀⠀⠀⠀⠀⠀⠀⠀⠀⠀⠀⠀⠀⠀⠀⠀⠀\n",
       "⠀⠀⢳⡑⢄⠙⠿⣧⠳⣄⠀⠀⠑⢌⠙⠲⣄⠀⠀⠀⠀⠀⠀⠀⠀⠀⠀⠀⠀⠀⠀⠀⠀⠀⠀⠀⠀⠀⠀⠀\n",
       "⠀⠀⠀⢳⡀⠀⠙⢦⢻⣶⣄⠀⠀⠀⠑⢄⠀⠉⠓⢦⡀⠀⠀⠀⠀⠀⠀⠀⠀⠀⠀⠀⠀⠀⠀⠀⠀⠀⠀⠀\n",
       "⠀⠀⠀⠀⠙⣄⠀⠀⠀⠙⠛⣤⣄⠀⠀⠀⠑⠀⠀⠀⠈⠳⣤⢄⡀⠀⠀⠀⠀⠀⠀⠀⠀⠀⠀⠀⠀⠀⠀⠀\n",
       "⠀⠀⠀⠀⠀⢳⡑⢄⠀⠀⠀⠙⠿⣧⠳⣄⠀⠀⠀⠀⠀⠀⠈⠳⣌⠑⠦⣄⠀⠀⠀⠀⠀⠀⠀⠀⠀⠀⠀⠀\n",
       "⠀⠀⠀⠀⠀⠀⢳⡀⠑⢄⠀⠀⠙⢦⢻⣶⣄⠑⢄⠀⠀⠀⠀⠀⠈⠳⣄⠀⠉⠳⢄⡀⠀⠀⠀⠀⠀⠀⠀⠀\n",
       "⠀⠀⠀⠀⠀⠀⠀⠙⡄⠀⠑⠀⠀⠀⢄⠙⠛⣤⣀⠑⠀⠀⠀⠀⠀⠀⠈⠳⣄⠀⠀⠉⠲⢤⣀⠀⠀⠀⠀⠀\n",
       "⠀⠀⠀⠀⠀⠀⠀⠀⠹⣄⠀⠀⠀⠀⠀⠑⢄⠘⢿⣷⢦⡀⠀⠀⠀⠀⠀⠀⠈⠳⣄⠀⠀⠀⠈⠓⢦⡀⠀⠀\n",
       "⠀⠀⠀⠀⠀⠀⠀⠀⠀⠈⢦⡀⠀⠀⠀⠀⠀⠀⠈⠳⠻⣦⡀⠀⠀⠀⠀⠀⠀⠀⠈⠳⣄⠀⠀⠀⠀⠈⠳⢄\n",
       "⠀⠀⠀⠀⠀⠀⠀⠀⠀⠀⠀⢟⢦⡀⠀⠀⠀⠀⠀⠀⠀⠈⢿⣷⡠⣄⠀⠀⠀⠀⠀⠀⠀⠀⠀⠀⠀⠀⠀⠀\n",
       "⠀⠀⠀⠀⠀⠀⠀⠀⠀⠀⠀⠈⢆⠙⢦⡀⠀⠀⠀⠀⠀⠀⠀⢮⡻⣮⣃⠐⢄⠀⠀⠀⠀⠀⠀⠀⠀⠀⠀⠀\n",
       "⠀⠀⠀⠀⠀⠀⠀⠀⠀⠀⠀⠀⠈⢧⠀⠙⢦⡀⠀⠀⠀⠀⠀⠀⢉⠘⠿⣧⡀⠑⢄⠀⢀⠀⠀⠀⠀⠀⠀⠀\n",
       "⠀⠀⠀⠀⠀⠀⠀⠀⠀⠀⠀⠀⠀⠀⢧⡀⠀⠙⢦⡀⠀⠀⠀⠀⠀⠑⢄⠈⢻⣶⣄⡀⠈⠳⣄⠀⠀⠀⠀⠀\n",
       "⠀⠀⠀⠀⠀⠀⠀⠀⠀⠀⠀⠀⠀⠀⠀⠱⡄⠀⠀⠙⢦⡀⠀⠀⠀⠀⠀⠑⠀⠹⣿⣿⡂⠀⠈⠳⣄⠀⠀⠀\n",
       "⠀⠀⠀⠀⠀⠀⠀⠀⠀⠀⠀⠀⠀⠀⠀⠀⠘⣆⠀⠀⠀⠙⠀⠀⠀⠀⠀⠐⢦⡀⠈⠈⠻⣦⣄⠀⠈⠃⠀⠀\n",
       "⠀⠀⠀⠀⠀⠀⠀⠀⠀⠀⠀⠀⠀⠀⠀⠀⠀⠘⢦⠀⠀⠀⠀⠀⠀⠀⠀⠀⠀⠙⢦⡀⠀⠙⣿⣿⣦⣀⠀⠀\n",
       "⠀⠀⠀⠀⠀⠀⠀⠀⠀⠀⠀⠀⠀⠀⠀⠀⠀⠀⠈⠳⡀⠀⠀⠀⠀⠀⠀⠀⠀⠀⠀⠙⠦⠀⠈⢻⡻⣮⡳⠄\n",
       "⠀⠀⠀⠀⠀⠀⠀⠀⠀⠀⠀⠀⠀⠀⠀⠀⠀⠀⠀⠀⠙⢆⠀⠀⠀⠀⠀⠀⠀⠀⠀⠀⠀⠀⠀⠀⠙⠎⠻⣦"
      ]
     },
     "metadata": {},
     "output_type": "display_data"
    }
   ],
   "source": [
    "H = generate_hamiltonian(1, 0, basis)"
   ]
  },
  {
   "cell_type": "code",
   "execution_count": 17,
   "metadata": {},
   "outputs": [],
   "source": [
    "E, vecs = eigs(H);"
   ]
  }
 ],
 "metadata": {
  "kernelspec": {
   "display_name": "Julia 1.7.1",
   "language": "julia",
   "name": "julia-1.7"
  },
  "language_info": {
   "file_extension": ".jl",
   "mimetype": "application/julia",
   "name": "julia",
   "version": "1.7.1"
  },
  "orig_nbformat": 4
 },
 "nbformat": 4,
 "nbformat_minor": 2
}
