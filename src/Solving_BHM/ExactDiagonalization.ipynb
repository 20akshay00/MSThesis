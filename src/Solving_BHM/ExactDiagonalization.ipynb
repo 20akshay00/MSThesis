{
 "cells": [
  {
   "cell_type": "code",
   "execution_count": 10,
   "metadata": {
    "vscode": {
     "languageId": "julia"
    }
   },
   "outputs": [],
   "source": [
    "using Combinatorics"
   ]
  },
  {
   "cell_type": "code",
   "execution_count": 11,
   "metadata": {
    "vscode": {
     "languageId": "julia"
    }
   },
   "outputs": [
    {
     "data": {
      "text/plain": [
       "gen_basis (generic function with 1 method)"
      ]
     },
     "metadata": {},
     "output_type": "display_data"
    }
   ],
   "source": [
    "dim_hil(k, n) = binomial(k + n - 1, n - 1)\n",
    "\n",
    "function gen_basis(N, L)\n",
    "    if L > 1\n",
    "        basis = zeros(Int16, (dim_hil(N, L), L))\n",
    "        j = 1\n",
    "    \n",
    "        for n in 0:N\n",
    "            d = dim_hil(n, L - 1)\n",
    "            basis[j:(j + d - 1), 1] .= (N - n)\n",
    "            basis[j:(j + d - 1), 2:end] = gen_basis(n, L - 1)\n",
    "            j += d\n",
    "        end\n",
    "    else\n",
    "        basis = [N]\n",
    "    end\n",
    "\n",
    "    return basis\n",
    "end"
   ]
  },
  {
   "cell_type": "code",
   "execution_count": 14,
   "metadata": {
    "vscode": {
     "languageId": "julia"
    }
   },
   "outputs": [
    {
     "data": {
      "text/plain": [
       "10×3 Matrix{Int16}:\n",
       " 3  0  0\n",
       " 2  1  0\n",
       " 2  0  1\n",
       " 1  2  0\n",
       " 1  1  1\n",
       " 1  0  2\n",
       " 0  3  0\n",
       " 0  2  1\n",
       " 0  1  2\n",
       " 0  0  3"
      ]
     },
     "metadata": {},
     "output_type": "display_data"
    }
   ],
   "source": [
    "gen_basis(3, 3)"
   ]
  },
  {
   "cell_type": "code",
   "execution_count": 15,
   "metadata": {
    "vscode": {
     "languageId": "julia"
    }
   },
   "outputs": [
    {
     "data": {
      "text/plain": [
       "tag (generic function with 1 method)"
      ]
     },
     "metadata": {},
     "output_type": "display_data"
    }
   ],
   "source": [
    "tag(basis, k) = sum(sqrt.(100 .* (1:size(basis)[2]) .+ 3) .* basis[k, :])"
   ]
  },
  {
   "cell_type": "code",
   "execution_count": null,
   "metadata": {
    "vscode": {
     "languageId": "julia"
    }
   },
   "outputs": [],
   "source": []
  }
 ],
 "metadata": {
  "language_info": {
   "name": "python"
  },
  "orig_nbformat": 4
 },
 "nbformat": 4,
 "nbformat_minor": 2
}
