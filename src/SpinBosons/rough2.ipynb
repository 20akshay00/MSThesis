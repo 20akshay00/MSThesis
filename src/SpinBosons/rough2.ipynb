{
 "cells": [
  {
   "cell_type": "code",
   "execution_count": 1,
   "id": "180c2162",
   "metadata": {},
   "outputs": [],
   "source": [
    "from sympy import *"
   ]
  },
  {
   "cell_type": "code",
   "execution_count": 2,
   "id": "fde93f5d",
   "metadata": {},
   "outputs": [],
   "source": [
    "ti, tj, pi, pj = symbols(\"theta_i theta_j phi_i phi_j\", real = true)"
   ]
  },
  {
   "cell_type": "code",
   "execution_count": 12,
   "id": "590280b0",
   "metadata": {},
   "outputs": [
    {
     "data": {
      "text/latex": [
       "$\\displaystyle \\left(\\sin^{2}{\\left(\\theta_{i} \\right)} \\sin^{2}{\\left(\\theta_{j} \\right)} \\sin{\\left(2 \\phi_{i} - 2 \\phi_{j} \\right)} + 0.5 \\sin{\\left(\\theta_{i} \\right)} \\sin{\\left(\\theta_{j} \\right)} \\sin{\\left(\\phi_{i} - \\phi_{j} \\right)}\\right)^{2} + \\left(\\sin^{2}{\\left(\\frac{\\theta_{i}}{2} \\right)} \\sin^{2}{\\left(\\frac{\\theta_{j}}{2} \\right)} \\cos{\\left(2 \\phi_{i} - 2 \\phi_{j} \\right)} + 0.5 \\sin{\\left(\\theta_{i} \\right)} \\sin{\\left(\\theta_{j} \\right)} \\cos{\\left(\\phi_{i} - \\phi_{j} \\right)} + \\cos^{2}{\\left(\\frac{\\theta_{i}}{2} \\right)} \\cos^{2}{\\left(\\frac{\\theta_{j}}{2} \\right)}\\right)^{2}$"
      ],
      "text/plain": [
       "(sin(theta_i)**2*sin(theta_j)**2*sin(2*phi_i - 2*phi_j) + 0.5*sin(theta_i)*sin(theta_j)*sin(phi_i - phi_j))**2 + (sin(theta_i/2)**2*sin(theta_j/2)**2*cos(2*phi_i - 2*phi_j) + 0.5*sin(theta_i)*sin(theta_j)*cos(phi_i - phi_j) + cos(theta_i/2)**2*cos(theta_j/2)**2)**2"
      ]
     },
     "execution_count": 12,
     "metadata": {},
     "output_type": "execute_result"
    }
   ],
   "source": [
    "expr = (cos(ti/2)**2 * cos(tj/2)**2 + (1/2) * sin(ti) * sin(tj) * cos(pi - pj) + sin(ti/2)**2 * sin(tj/2)**2 * cos(2*(pi - pj))) ** 2 + \\\n",
    "       ((1/2) * sin(ti) * sin(tj) * sin(pi - pj) + sin(ti)**2 * sin(tj)**2 * sin(2 * (pi - pj))) ** 2\n",
    "\n",
    "expr"
   ]
  },
  {
   "cell_type": "code",
   "execution_count": 11,
   "id": "1dd5962d",
   "metadata": {},
   "outputs": [
    {
     "data": {
      "text/latex": [
       "$\\displaystyle \\sin^{4}{\\left(\\frac{\\theta_{i}}{2} \\right)} \\sin^{4}{\\left(\\frac{\\theta_{j}}{2} \\right)} \\cos^{2}{\\left(2 \\phi_{i} - 2 \\phi_{j} \\right)} + 1.0 \\sin^{2}{\\left(\\frac{\\theta_{i}}{2} \\right)} \\sin{\\left(\\theta_{i} \\right)} \\sin^{2}{\\left(\\frac{\\theta_{j}}{2} \\right)} \\sin{\\left(\\theta_{j} \\right)} \\cos{\\left(\\phi_{i} - \\phi_{j} \\right)} \\cos{\\left(2 \\phi_{i} - 2 \\phi_{j} \\right)} + 2 \\sin^{2}{\\left(\\frac{\\theta_{i}}{2} \\right)} \\sin^{2}{\\left(\\frac{\\theta_{j}}{2} \\right)} \\cos^{2}{\\left(\\frac{\\theta_{i}}{2} \\right)} \\cos^{2}{\\left(\\frac{\\theta_{j}}{2} \\right)} \\cos{\\left(2 \\phi_{i} - 2 \\phi_{j} \\right)} + \\sin^{4}{\\left(\\theta_{i} \\right)} \\sin^{4}{\\left(\\theta_{j} \\right)} \\sin^{2}{\\left(2 \\phi_{i} - 2 \\phi_{j} \\right)} + 1.0 \\sin^{3}{\\left(\\theta_{i} \\right)} \\sin^{3}{\\left(\\theta_{j} \\right)} \\sin{\\left(\\phi_{i} - \\phi_{j} \\right)} \\sin{\\left(2 \\phi_{i} - 2 \\phi_{j} \\right)} + 0.25 \\sin^{2}{\\left(\\theta_{i} \\right)} \\sin^{2}{\\left(\\theta_{j} \\right)} \\sin^{2}{\\left(\\phi_{i} - \\phi_{j} \\right)} + 0.25 \\sin^{2}{\\left(\\theta_{i} \\right)} \\sin^{2}{\\left(\\theta_{j} \\right)} \\cos^{2}{\\left(\\phi_{i} - \\phi_{j} \\right)} + 1.0 \\sin{\\left(\\theta_{i} \\right)} \\sin{\\left(\\theta_{j} \\right)} \\cos^{2}{\\left(\\frac{\\theta_{i}}{2} \\right)} \\cos^{2}{\\left(\\frac{\\theta_{j}}{2} \\right)} \\cos{\\left(\\phi_{i} - \\phi_{j} \\right)} + \\cos^{4}{\\left(\\frac{\\theta_{i}}{2} \\right)} \\cos^{4}{\\left(\\frac{\\theta_{j}}{2} \\right)}$"
      ],
      "text/plain": [
       "sin(theta_i/2)**4*sin(theta_j/2)**4*cos(2*phi_i - 2*phi_j)**2 + 1.0*sin(theta_i/2)**2*sin(theta_i)*sin(theta_j/2)**2*sin(theta_j)*cos(phi_i - phi_j)*cos(2*phi_i - 2*phi_j) + 2*sin(theta_i/2)**2*sin(theta_j/2)**2*cos(theta_i/2)**2*cos(theta_j/2)**2*cos(2*phi_i - 2*phi_j) + sin(theta_i)**4*sin(theta_j)**4*sin(2*phi_i - 2*phi_j)**2 + 1.0*sin(theta_i)**3*sin(theta_j)**3*sin(phi_i - phi_j)*sin(2*phi_i - 2*phi_j) + 0.25*sin(theta_i)**2*sin(theta_j)**2*sin(phi_i - phi_j)**2 + 0.25*sin(theta_i)**2*sin(theta_j)**2*cos(phi_i - phi_j)**2 + 1.0*sin(theta_i)*sin(theta_j)*cos(theta_i/2)**2*cos(theta_j/2)**2*cos(phi_i - phi_j) + cos(theta_i/2)**4*cos(theta_j/2)**4"
      ]
     },
     "execution_count": 11,
     "metadata": {},
     "output_type": "execute_result"
    }
   ],
   "source": [
    "expr = expand(expr)\n",
    "expr"
   ]
  },
  {
   "cell_type": "code",
   "execution_count": null,
   "id": "7020a86f",
   "metadata": {},
   "outputs": [],
   "source": []
  }
 ],
 "metadata": {
  "kernelspec": {
   "display_name": "Python 3.9.7 ('base')",
   "language": "python",
   "name": "python3"
  },
  "language_info": {
   "codemirror_mode": {
    "name": "ipython",
    "version": 3
   },
   "file_extension": ".py",
   "mimetype": "text/x-python",
   "name": "python",
   "nbconvert_exporter": "python",
   "pygments_lexer": "ipython3",
   "version": "3.9.7"
  },
  "vscode": {
   "interpreter": {
    "hash": "ad2bdc8ecc057115af97d19610ffacc2b4e99fae6737bb82f5d7fb13d2f2c186"
   }
  }
 },
 "nbformat": 4,
 "nbformat_minor": 5
}
