{
 "cells": [
  {
   "cell_type": "code",
   "execution_count": 24,
   "id": "72787719",
   "metadata": {},
   "outputs": [],
   "source": [
    "from sympy import *\n",
    "from sympy.physics.quantum import Dagger, Operator"
   ]
  },
  {
   "cell_type": "code",
   "execution_count": 102,
   "id": "8823bc21",
   "metadata": {},
   "outputs": [],
   "source": [
    "# rotation transformation\n",
    "theta, phi = symbols(\"theta phi\")\n",
    "R = Matrix([\n",
    "    [cos(theta/2), -sin(theta/2) * exp(-I * phi)],\n",
    "    [sin(theta/2) * exp(I * phi), cos(theta/2)]\n",
    "])\n",
    "\n",
    "# lattice/spin indices\n",
    "i, j, p , q = symbols(\"i j p q\")\n",
    "\n",
    "# rotation angles\n",
    "ti, tj, pi, pj = symbols(\"theta_i theta_j phi_i phi_j\", real = true)\n",
    "\n",
    "# operators\n",
    "cip, ciq, dip, diq = symbols(\"c_{ip} c_{iq} d_{ip} d_{iq}\")\n",
    "cjp, cjq, djp, djq = symbols(\"c_{jp} c_{jq} d_{jp} d_{jq}\") \n",
    "\n",
    "# cip, ciq, cjp, cjq = Operator(\"c_{ip}\"), Operator(\"c_{iq}\"), Operator(\"c_{jp}\"), Operator(\"c_{jq}\")\n",
    "# dip, diq, djp, djq = Operator(\"d_{ip}\"), Operator(\"d_{iq}\"), Operator(\"d_{jp}\"), Operator(\"d_{jq}\")"
   ]
  },
  {
   "cell_type": "code",
   "execution_count": 103,
   "id": "f672feeb",
   "metadata": {},
   "outputs": [],
   "source": [
    "cip, ciq = R.subs([(theta, ti), (phi, pi)]) * Matrix([dip, diq])\n",
    "cjp, cjq = R.subs([(theta, tj), (phi, pj)]) * Matrix([djp, djq])"
   ]
  },
  {
   "cell_type": "code",
   "execution_count": 104,
   "id": "59f90ec3",
   "metadata": {},
   "outputs": [
    {
     "data": {
      "text/latex": [
       "$\\displaystyle d_{ip} \\left(e^{i \\phi_{i}} \\sin{\\left(\\frac{\\theta_{i}}{2} \\right)} \\cos{\\left(\\frac{\\theta_{j}}{2} \\right)} - e^{i \\phi_{j}} \\sin{\\left(\\frac{\\theta_{j}}{2} \\right)} \\cos{\\left(\\frac{\\theta_{i}}{2} \\right)}\\right) d_{jq}^{\\dagger} + d_{ip} \\left(e^{i \\phi_{i}} e^{- i \\phi_{j}} \\sin{\\left(\\frac{\\theta_{i}}{2} \\right)} \\sin{\\left(\\frac{\\theta_{j}}{2} \\right)} + \\cos{\\left(\\frac{\\theta_{i}}{2} \\right)} \\cos{\\left(\\frac{\\theta_{j}}{2} \\right)}\\right) d_{jp}^{\\dagger} + d_{iq} \\left(e^{- i \\phi_{j}} \\sin{\\left(\\frac{\\theta_{j}}{2} \\right)} \\cos{\\left(\\frac{\\theta_{i}}{2} \\right)} - e^{- i \\phi_{i}} \\sin{\\left(\\frac{\\theta_{i}}{2} \\right)} \\cos{\\left(\\frac{\\theta_{j}}{2} \\right)}\\right) d_{jp}^{\\dagger} + d_{iq} \\left(e^{- i \\phi_{i} + i \\phi_{j}} \\sin{\\left(\\frac{\\theta_{i}}{2} \\right)} \\sin{\\left(\\frac{\\theta_{j}}{2} \\right)} + \\cos{\\left(\\frac{\\theta_{i}}{2} \\right)} \\cos{\\left(\\frac{\\theta_{j}}{2} \\right)}\\right) d_{jq}^{\\dagger} + d_{jp} \\left(\\cos{\\left(\\frac{\\theta_{i}}{2} \\right)} \\cos{\\left(\\frac{\\theta_{j}}{2} \\right)} + e^{- i \\phi_{i}} e^{i \\phi_{j}} \\sin{\\left(\\frac{\\theta_{i}}{2} \\right)} \\sin{\\left(\\frac{\\theta_{j}}{2} \\right)}\\right) d_{ip}^{\\dagger} + d_{jp} \\left(- e^{i \\phi_{i}} \\sin{\\left(\\frac{\\theta_{i}}{2} \\right)} \\cos{\\left(\\frac{\\theta_{j}}{2} \\right)} + e^{i \\phi_{j}} \\sin{\\left(\\frac{\\theta_{j}}{2} \\right)} \\cos{\\left(\\frac{\\theta_{i}}{2} \\right)}\\right) d_{iq}^{\\dagger} + d_{jq} \\left(- e^{- i \\phi_{j}} \\sin{\\left(\\frac{\\theta_{j}}{2} \\right)} \\cos{\\left(\\frac{\\theta_{i}}{2} \\right)} + e^{- i \\phi_{i}} \\sin{\\left(\\frac{\\theta_{i}}{2} \\right)} \\cos{\\left(\\frac{\\theta_{j}}{2} \\right)}\\right) d_{ip}^{\\dagger} + d_{jq} \\left(e^{i \\phi_{i}} e^{- i \\phi_{j}} \\sin{\\left(\\frac{\\theta_{i}}{2} \\right)} \\sin{\\left(\\frac{\\theta_{j}}{2} \\right)} + \\cos{\\left(\\frac{\\theta_{i}}{2} \\right)} \\cos{\\left(\\frac{\\theta_{j}}{2} \\right)}\\right) d_{iq}^{\\dagger}$"
      ],
      "text/plain": [
       "d_{ip}*(exp(I*phi_i)*sin(theta_i/2)*cos(theta_j/2) - exp(I*phi_j)*sin(theta_j/2)*cos(theta_i/2))*Dagger(d_{jq}) + d_{ip}*(exp(I*phi_i)*exp(-I*phi_j)*sin(theta_i/2)*sin(theta_j/2) + cos(theta_i/2)*cos(theta_j/2))*Dagger(d_{jp}) + d_{iq}*(exp(-I*phi_j)*sin(theta_j/2)*cos(theta_i/2) - exp(-I*phi_i)*sin(theta_i/2)*cos(theta_j/2))*Dagger(d_{jp}) + d_{iq}*(exp(-I*phi_i + I*phi_j)*sin(theta_i/2)*sin(theta_j/2) + cos(theta_i/2)*cos(theta_j/2))*Dagger(d_{jq}) + d_{jp}*(cos(theta_i/2)*cos(theta_j/2) + exp(-I*phi_i)*exp(I*phi_j)*sin(theta_i/2)*sin(theta_j/2))*Dagger(d_{ip}) + d_{jp}*(-exp(I*phi_i)*sin(theta_i/2)*cos(theta_j/2) + exp(I*phi_j)*sin(theta_j/2)*cos(theta_i/2))*Dagger(d_{iq}) + d_{jq}*(-exp(-I*phi_j)*sin(theta_j/2)*cos(theta_i/2) + exp(-I*phi_i)*sin(theta_i/2)*cos(theta_j/2))*Dagger(d_{ip}) + d_{jq}*(exp(I*phi_i)*exp(-I*phi_j)*sin(theta_i/2)*sin(theta_j/2) + cos(theta_i/2)*cos(theta_j/2))*Dagger(d_{iq})"
      ]
     },
     "execution_count": 104,
     "metadata": {},
     "output_type": "execute_result"
    }
   ],
   "source": [
    "expr1 = expand(Dagger(cip) * cjp) + expand(Dagger(cjp) * cip)\n",
    "expr2 = expand(Dagger(ciq) * cjq) + expand(Dagger(cjq) * ciq)\n",
    "\n",
    "expr = expr1 + expr2\n",
    "\n",
    "expr = collect(expr, Dagger(diq) * djp)\n",
    "expr = collect(expr, Dagger(djq) * dip)\n",
    "expr = collect(expr, Dagger(diq) * djq)\n",
    "expr = collect(expr, Dagger(djp) * dip)\n",
    "\n",
    "expr = collect(expr, Dagger(dip) * djp)\n",
    "expr = collect(expr, Dagger(djq) * diq)\n",
    "expr = collect(expr, Dagger(dip) * djq)\n",
    "expr = collect(expr, Dagger(djp) * diq)\n",
    "\n",
    "expr = collect(expr, Dagger(djq) * diq)\n",
    "\n",
    "\n",
    "expr"
   ]
  },
  {
   "cell_type": "code",
   "execution_count": 107,
   "id": "eba69b87",
   "metadata": {},
   "outputs": [],
   "source": [
    "sigx, sigy, sigz = Matrix([[0, 1], [1, 0]]), Matrix([[0, -I], [I, 0]]), Matrix([[1, 0], [0, -1]])"
   ]
  },
  {
   "cell_type": "code",
   "execution_count": 119,
   "id": "61c3685a",
   "metadata": {},
   "outputs": [],
   "source": [
    "spins = expand(Matrix([[Dagger(cip), Dagger(ciq)]]) * (sin(ti)*cos(pi)*sigx + sin(ti)*sin(pi)*sigy + cos(ti)*sigz) * Matrix([cip, ciq]))[0, 0]"
   ]
  },
  {
   "cell_type": "code",
   "execution_count": 121,
   "id": "dc5f5263",
   "metadata": {},
   "outputs": [
    {
     "data": {
      "text/latex": [
       "$\\displaystyle i d_{ip} e^{2 i \\phi_{i}} \\sin{\\left(\\phi_{i} \\right)} \\sin^{2}{\\left(\\frac{\\theta_{i}}{2} \\right)} \\sin{\\left(\\theta_{i} \\right)} d_{iq}^{\\dagger} - d_{ip} e^{2 i \\phi_{i}} \\sin^{2}{\\left(\\frac{\\theta_{i}}{2} \\right)} \\sin{\\left(\\theta_{i} \\right)} \\cos{\\left(\\phi_{i} \\right)} d_{iq}^{\\dagger} - i d_{ip} e^{i \\phi_{i}} \\sin{\\left(\\phi_{i} \\right)} \\sin{\\left(\\frac{\\theta_{i}}{2} \\right)} \\sin{\\left(\\theta_{i} \\right)} \\cos{\\left(\\frac{\\theta_{i}}{2} \\right)} d_{ip}^{\\dagger} + d_{ip} e^{i \\phi_{i}} \\sin{\\left(\\frac{\\theta_{i}}{2} \\right)} \\sin{\\left(\\theta_{i} \\right)} \\cos{\\left(\\phi_{i} \\right)} \\cos{\\left(\\frac{\\theta_{i}}{2} \\right)} d_{ip}^{\\dagger} - 2 d_{ip} e^{i \\phi_{i}} \\sin{\\left(\\frac{\\theta_{i}}{2} \\right)} \\cos{\\left(\\frac{\\theta_{i}}{2} \\right)} \\cos{\\left(\\theta_{i} \\right)} d_{iq}^{\\dagger} + i d_{ip} \\sin{\\left(\\phi_{i} \\right)} \\sin{\\left(\\theta_{i} \\right)} \\cos^{2}{\\left(\\frac{\\theta_{i}}{2} \\right)} d_{iq}^{\\dagger} - d_{ip} \\sin^{2}{\\left(\\frac{\\theta_{i}}{2} \\right)} \\cos{\\left(\\theta_{i} \\right)} d_{ip}^{\\dagger} + d_{ip} \\sin{\\left(\\theta_{i} \\right)} \\cos{\\left(\\phi_{i} \\right)} \\cos^{2}{\\left(\\frac{\\theta_{i}}{2} \\right)} d_{iq}^{\\dagger} + d_{ip} \\cos^{2}{\\left(\\frac{\\theta_{i}}{2} \\right)} \\cos{\\left(\\theta_{i} \\right)} d_{ip}^{\\dagger} + i d_{ip} e^{- i \\phi_{i}} \\sin{\\left(\\phi_{i} \\right)} \\sin{\\left(\\frac{\\theta_{i}}{2} \\right)} \\sin{\\left(\\theta_{i} \\right)} \\cos{\\left(\\frac{\\theta_{i}}{2} \\right)} d_{ip}^{\\dagger} + d_{ip} e^{- i \\phi_{i}} \\sin{\\left(\\frac{\\theta_{i}}{2} \\right)} \\sin{\\left(\\theta_{i} \\right)} \\cos{\\left(\\phi_{i} \\right)} \\cos{\\left(\\frac{\\theta_{i}}{2} \\right)} d_{ip}^{\\dagger} + i d_{iq} e^{i \\phi_{i}} \\sin{\\left(\\phi_{i} \\right)} \\sin{\\left(\\frac{\\theta_{i}}{2} \\right)} \\sin{\\left(\\theta_{i} \\right)} \\cos{\\left(\\frac{\\theta_{i}}{2} \\right)} d_{iq}^{\\dagger} - d_{iq} e^{i \\phi_{i}} \\sin{\\left(\\frac{\\theta_{i}}{2} \\right)} \\sin{\\left(\\theta_{i} \\right)} \\cos{\\left(\\phi_{i} \\right)} \\cos{\\left(\\frac{\\theta_{i}}{2} \\right)} d_{iq}^{\\dagger} - i d_{iq} \\sin{\\left(\\phi_{i} \\right)} \\sin{\\left(\\theta_{i} \\right)} \\cos^{2}{\\left(\\frac{\\theta_{i}}{2} \\right)} d_{ip}^{\\dagger} + d_{iq} \\sin^{2}{\\left(\\frac{\\theta_{i}}{2} \\right)} \\cos{\\left(\\theta_{i} \\right)} d_{iq}^{\\dagger} + d_{iq} \\sin{\\left(\\theta_{i} \\right)} \\cos{\\left(\\phi_{i} \\right)} \\cos^{2}{\\left(\\frac{\\theta_{i}}{2} \\right)} d_{ip}^{\\dagger} - d_{iq} \\cos^{2}{\\left(\\frac{\\theta_{i}}{2} \\right)} \\cos{\\left(\\theta_{i} \\right)} d_{iq}^{\\dagger} - i d_{iq} e^{- i \\phi_{i}} \\sin{\\left(\\phi_{i} \\right)} \\sin{\\left(\\frac{\\theta_{i}}{2} \\right)} \\sin{\\left(\\theta_{i} \\right)} \\cos{\\left(\\frac{\\theta_{i}}{2} \\right)} d_{iq}^{\\dagger} - d_{iq} e^{- i \\phi_{i}} \\sin{\\left(\\frac{\\theta_{i}}{2} \\right)} \\sin{\\left(\\theta_{i} \\right)} \\cos{\\left(\\phi_{i} \\right)} \\cos{\\left(\\frac{\\theta_{i}}{2} \\right)} d_{iq}^{\\dagger} - 2 d_{iq} e^{- i \\phi_{i}} \\sin{\\left(\\frac{\\theta_{i}}{2} \\right)} \\cos{\\left(\\frac{\\theta_{i}}{2} \\right)} \\cos{\\left(\\theta_{i} \\right)} d_{ip}^{\\dagger} - i d_{iq} e^{- 2 i \\phi_{i}} \\sin{\\left(\\phi_{i} \\right)} \\sin^{2}{\\left(\\frac{\\theta_{i}}{2} \\right)} \\sin{\\left(\\theta_{i} \\right)} d_{ip}^{\\dagger} - d_{iq} e^{- 2 i \\phi_{i}} \\sin^{2}{\\left(\\frac{\\theta_{i}}{2} \\right)} \\sin{\\left(\\theta_{i} \\right)} \\cos{\\left(\\phi_{i} \\right)} d_{ip}^{\\dagger}$"
      ],
      "text/plain": [
       "I*d_{ip}*exp(2*I*phi_i)*sin(phi_i)*sin(theta_i/2)**2*sin(theta_i)*Dagger(d_{iq}) - d_{ip}*exp(2*I*phi_i)*sin(theta_i/2)**2*sin(theta_i)*cos(phi_i)*Dagger(d_{iq}) - I*d_{ip}*exp(I*phi_i)*sin(phi_i)*sin(theta_i/2)*sin(theta_i)*cos(theta_i/2)*Dagger(d_{ip}) + d_{ip}*exp(I*phi_i)*sin(theta_i/2)*sin(theta_i)*cos(phi_i)*cos(theta_i/2)*Dagger(d_{ip}) - 2*d_{ip}*exp(I*phi_i)*sin(theta_i/2)*cos(theta_i/2)*cos(theta_i)*Dagger(d_{iq}) + I*d_{ip}*sin(phi_i)*sin(theta_i)*cos(theta_i/2)**2*Dagger(d_{iq}) - d_{ip}*sin(theta_i/2)**2*cos(theta_i)*Dagger(d_{ip}) + d_{ip}*sin(theta_i)*cos(phi_i)*cos(theta_i/2)**2*Dagger(d_{iq}) + d_{ip}*cos(theta_i/2)**2*cos(theta_i)*Dagger(d_{ip}) + I*d_{ip}*exp(-I*phi_i)*sin(phi_i)*sin(theta_i/2)*sin(theta_i)*cos(theta_i/2)*Dagger(d_{ip}) + d_{ip}*exp(-I*phi_i)*sin(theta_i/2)*sin(theta_i)*cos(phi_i)*cos(theta_i/2)*Dagger(d_{ip}) + I*d_{iq}*exp(I*phi_i)*sin(phi_i)*sin(theta_i/2)*sin(theta_i)*cos(theta_i/2)*Dagger(d_{iq}) - d_{iq}*exp(I*phi_i)*sin(theta_i/2)*sin(theta_i)*cos(phi_i)*cos(theta_i/2)*Dagger(d_{iq}) - I*d_{iq}*sin(phi_i)*sin(theta_i)*cos(theta_i/2)**2*Dagger(d_{ip}) + d_{iq}*sin(theta_i/2)**2*cos(theta_i)*Dagger(d_{iq}) + d_{iq}*sin(theta_i)*cos(phi_i)*cos(theta_i/2)**2*Dagger(d_{ip}) - d_{iq}*cos(theta_i/2)**2*cos(theta_i)*Dagger(d_{iq}) - I*d_{iq}*exp(-I*phi_i)*sin(phi_i)*sin(theta_i/2)*sin(theta_i)*cos(theta_i/2)*Dagger(d_{iq}) - d_{iq}*exp(-I*phi_i)*sin(theta_i/2)*sin(theta_i)*cos(phi_i)*cos(theta_i/2)*Dagger(d_{iq}) - 2*d_{iq}*exp(-I*phi_i)*sin(theta_i/2)*cos(theta_i/2)*cos(theta_i)*Dagger(d_{ip}) - I*d_{iq}*exp(-2*I*phi_i)*sin(phi_i)*sin(theta_i/2)**2*sin(theta_i)*Dagger(d_{ip}) - d_{iq}*exp(-2*I*phi_i)*sin(theta_i/2)**2*sin(theta_i)*cos(phi_i)*Dagger(d_{ip})"
      ]
     },
     "execution_count": 121,
     "metadata": {},
     "output_type": "execute_result"
    }
   ],
   "source": [
    "spins = collect(spins, Dagger(dip) * djq)\n",
    "spins = collect(spins, Dagger(djq) * dip)\n",
    "spins = collect(spins, Dagger(diq) * djq)\n",
    "spins = collect(spins, Dagger(djp) * dip)\n",
    "\n",
    "spins = collect(spins, Dagger(dip) * djp)\n",
    "spins = collect(spins, Dagger(djq) * diq)\n",
    "spins = collect(spins, Dagger(dip) * djq)\n",
    "spins = collect(spins, Dagger(djp) * diq)\n",
    "\n",
    "spins = collect(spins, Dagger(djq) * diq)\n",
    "\n",
    "spins"
   ]
  },
  {
   "cell_type": "code",
   "execution_count": null,
   "id": "ee676965",
   "metadata": {},
   "outputs": [],
   "source": [
    "t = "
   ]
  }
 ],
 "metadata": {
  "kernelspec": {
   "display_name": "Python 3.9.7 ('base')",
   "language": "python",
   "name": "python3"
  },
  "language_info": {
   "codemirror_mode": {
    "name": "ipython",
    "version": 3
   },
   "file_extension": ".py",
   "mimetype": "text/x-python",
   "name": "python",
   "nbconvert_exporter": "python",
   "pygments_lexer": "ipython3",
   "version": "3.9.7"
  },
  "vscode": {
   "interpreter": {
    "hash": "ad2bdc8ecc057115af97d19610ffacc2b4e99fae6737bb82f5d7fb13d2f2c186"
   }
  }
 },
 "nbformat": 4,
 "nbformat_minor": 5
}
