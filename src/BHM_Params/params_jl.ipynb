{
 "cells": [
  {
   "cell_type": "code",
   "execution_count": 1,
   "metadata": {},
   "outputs": [],
   "source": [
    "using Plots, LaTeXStrings\n",
    "import LinearAlgebra: SymTridiagonal"
   ]
  },
  {
   "cell_type": "markdown",
   "metadata": {},
   "source": [
    "## Bose-Hubbard model\n",
    "\n",
    "$$\\hat{H}_{BH} = -J\\sum_{\\langle ij \\rangle} \\hat{a}_i^{\\dagger} \\hat{a}_j + \\frac{U}{2} \\sum_i \\hat{n}_i (\\hat{n}_i - 1) - \\sum_i \\mu_i \\hat{n}_i$$\n",
    "\n",
    "### Parameters: \n",
    "$$J_{i, j} = -\\int d^3r \\;\\; w^*(r-R_i) \\cdot \\left [ -\\frac{\\hbar^2\\nabla^2}{2m} + V_{opt}(r)\\right ] \\cdot w(r-R_j)$$ \n",
    "$$U_{i, j, k, l} = g \\int d^3r \\;\\; w^*(r-R_i) \\cdot w^*(r-R_j) \\cdot w(r-R_k) \\cdot w(r-R_l)$$\n",
    "\n",
    "$$\\mu_{i, j} = \\int d^3r \\;\\; w^*(r-R_i) \\cdot [\\mu - V_{ho}(r)] \\cdot w(r-R_j)$$\n"
   ]
  },
  {
   "cell_type": "code",
   "execution_count": 11,
   "metadata": {},
   "outputs": [
    {
     "data": {
      "text/plain": [
       "U (generic function with 2 methods)"
      ]
     },
     "metadata": {},
     "output_type": "display_data"
    }
   ],
   "source": [
    "# ϕ - basis functions, r - discretized grid, R - minima of potential, (i, j, k, l) - overlap indices\n",
    "function U(wannier, r, R, i, j, k, l)\n",
    "    Δr = r[1] - r[0]\n",
    "    integrand = conj.(wannier(R[i])) .* conj.(wannier(R[j])) .* wannier(R[k]) .* wannier(R[l]) \n",
    "    return sum(integrand) * Δr \n",
    "end\n",
    "\n",
    "U(ϕ, r, R, i) = U(ϕ, r, R, i, i, i, i)"
   ]
  },
  {
   "cell_type": "code",
   "execution_count": 2,
   "metadata": {},
   "outputs": [
    {
     "data": {
      "text/plain": [
       "J (generic function with 1 method)"
      ]
     },
     "metadata": {},
     "output_type": "display_data"
    }
   ],
   "source": [
    "function J(wannier, V, r, R, i, j)\n",
    "    Δr = r[1] - r[0]\n",
    "    T̂ = SymTridiagonal(- 2/Δr^2 .- V.(r), 1/Δr^2 * ones(length(r))) \n",
    "    integrand = conj.(wannier[R[i]]) .* T̂ .* wannier[R[j]]\n",
    "    \n",
    "    return sum(integrand) * Δr \n",
    "end"
   ]
  },
  {
   "cell_type": "code",
   "execution_count": null,
   "metadata": {},
   "outputs": [],
   "source": []
  }
 ],
 "metadata": {
  "kernelspec": {
   "display_name": "Julia 1.7.1",
   "language": "julia",
   "name": "julia-1.7"
  },
  "language_info": {
   "file_extension": ".jl",
   "mimetype": "application/julia",
   "name": "julia",
   "version": "1.7.1"
  },
  "orig_nbformat": 4
 },
 "nbformat": 4,
 "nbformat_minor": 2
}
