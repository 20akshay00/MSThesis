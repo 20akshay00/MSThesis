{
 "cells": [
  {
   "cell_type": "code",
   "execution_count": 1,
   "metadata": {},
   "outputs": [],
   "source": [
    "using Plots, Optim, LinearAlgebra, LaTeXStrings"
   ]
  },
  {
   "cell_type": "code",
   "execution_count": 51,
   "metadata": {},
   "outputs": [
    {
     "data": {
      "text/plain": [
       "get_num_particles (generic function with 1 method)"
      ]
     },
     "metadata": {},
     "output_type": "display_data"
    }
   ],
   "source": [
    "abstract type BoseHubbardModel end\n",
    "\n",
    "struct MeanField <: BoseHubbardModel\n",
    "    n_max :: Int64\n",
    "    a :: Matrix{Float64}\n",
    "    n :: Matrix{Float64}\n",
    "\n",
    "    MeanField(n_max) = new(n_max, diagm(1 => sqrt.(1:n_max)), diagm(0 => 0:n_max))\n",
    "end\n",
    "\n",
    "function get_hamiltonian(model :: MeanField, t, mu, V, z, psi)\n",
    "    H = -mu * model.n + 0.5 * model.n * (model.n - I) + 0.5 * V * (2 * z * psi[2] * model.n - z * psi[2] ^ 2 * I) - t * z * psi[1] * (model.a + model.a') + t * z * psi[1]^2 * I\n",
    "    return H \n",
    "end\n",
    "\n",
    "function get_order_parameter(model, t, mu, V, z)\n",
    "    E_gs(psi) = eigvals(get_hamiltonian(model, t, mu, V, z, psi))[1]\n",
    "    return Optim.minimizer(optimize(E_gs, zeros(2)))\n",
    "end\n",
    "\n",
    "# find N for the ground state\n",
    "function get_num_particles(model, t, mu, V, z)\n",
    "    psi, phi = get_order_parameter(model, t, mu, V, z)\n",
    "    gs = eigvecs(get_hamiltonian(model, t, mu, V, z, psi))[:, 1]\n",
    "    \n",
    "    return gs' * model.n * gs\n",
    "end"
   ]
  },
  {
   "cell_type": "code",
   "execution_count": 57,
   "metadata": {},
   "outputs": [],
   "source": [
    "model = MeanField(10)\n",
    "z, size = 2, 100\n",
    "t, mu, V = 0.1, 2, 1\n",
    "\n",
    "for (psi, phi) in zip(-100:0.1:100, -100:0.1:100)\n",
    "    H = get_hamiltonian(model, t, mu, V, 2, [-1, 0])\n",
    "    if(isnothing(H) || any(isnan, H) || any(isinf, H))\n",
    "        print(H)\n",
    "        break;\n",
    "    end\n",
    "end\n",
    "# # get_order_parameter(model, t, mu, V, 1)"
   ]
  },
  {
   "cell_type": "code",
   "execution_count": 49,
   "metadata": {},
   "outputs": [
    {
     "ename": "ArgumentError",
     "evalue": "ArgumentError: matrix contains Infs or NaNs",
     "output_type": "error",
     "traceback": [
      "ArgumentError: matrix contains Infs or NaNs\n",
      "\n",
      "Stacktrace:\n",
      "  [1] chkuplofinite(A::Matrix{Float64}, uplo::Char)\n",
      "    @ LinearAlgebra.LAPACK C:\\Users\\saksh\\AppData\\Local\\Programs\\Julia-1.7.1\\share\\julia\\stdlib\\v1.7\\LinearAlgebra\\src\\lapack.jl:109\n",
      "  [2] syevr!(jobz::Char, range::Char, uplo::Char, A::Matrix{Float64}, vl::Float64, vu::Float64, il::Int64, iu::Int64, abstol::Float64)\n",
      "    @ LinearAlgebra.LAPACK C:\\Users\\saksh\\AppData\\Local\\Programs\\Julia-1.7.1\\share\\julia\\stdlib\\v1.7\\LinearAlgebra\\src\\lapack.jl:5089\n",
      "  [3] eigvals!\n",
      "    @ C:\\Users\\saksh\\AppData\\Local\\Programs\\Julia-1.7.1\\share\\julia\\stdlib\\v1.7\\LinearAlgebra\\src\\symmetriceigen.jl:63 [inlined]\n",
      "  [4] eigvals!(A::Matrix{Float64}; permute::Bool, scale::Bool, sortby::typeof(LinearAlgebra.eigsortby))\n",
      "    @ LinearAlgebra C:\\Users\\saksh\\AppData\\Local\\Programs\\Julia-1.7.1\\share\\julia\\stdlib\\v1.7\\LinearAlgebra\\src\\eigen.jl:292\n",
      "  [5] eigvals!\n",
      "    @ C:\\Users\\saksh\\AppData\\Local\\Programs\\Julia-1.7.1\\share\\julia\\stdlib\\v1.7\\LinearAlgebra\\src\\eigen.jl:292 [inlined]\n",
      "  [6] #eigvals#88\n",
      "    @ C:\\Users\\saksh\\AppData\\Local\\Programs\\Julia-1.7.1\\share\\julia\\stdlib\\v1.7\\LinearAlgebra\\src\\eigen.jl:326 [inlined]\n",
      "  [7] eigvals\n",
      "    @ C:\\Users\\saksh\\AppData\\Local\\Programs\\Julia-1.7.1\\share\\julia\\stdlib\\v1.7\\LinearAlgebra\\src\\eigen.jl:326 [inlined]\n",
      "  [8] (::var\"#E_gs#24\"{MeanField, Float64, Float64, Int64, Int64})(psi::Vector{Float64})\n",
      "    @ Main c:\\Users\\saksh\\Documents\\code-repo\\Projects\\Thesis\\src\\Solving_eBHM\\MFT.ipynb:22\n",
      "  [9] value(obj::NonDifferentiable{Float64, Vector{Float64}}, x::Vector{Float64})\n",
      "    @ NLSolversBase C:\\Users\\saksh\\.julia\\packages\\NLSolversBase\\cfJrN\\src\\interface.jl:19\n",
      " [10] update_state!(f::NonDifferentiable{Float64, Vector{Float64}}, state::Optim.NelderMeadState{Vector{Float64}, Float64, Vector{Float64}}, method::NelderMead{Optim.AffineSimplexer, Optim.AdaptiveParameters})\n",
      "    @ Optim C:\\Users\\saksh\\.julia\\packages\\Optim\\6Lpjy\\src\\multivariate\\solvers\\zeroth_order\\nelder_mead.jl:220\n",
      " [11] optimize(d::NonDifferentiable{Float64, Vector{Float64}}, initial_x::Vector{Float64}, method::NelderMead{Optim.AffineSimplexer, Optim.AdaptiveParameters}, options::Optim.Options{Float64, Nothing}, state::Optim.NelderMeadState{Vector{Float64}, Float64, Vector{Float64}})\n",
      "    @ Optim C:\\Users\\saksh\\.julia\\packages\\Optim\\6Lpjy\\src\\multivariate\\optimize\\optimize.jl:54\n",
      " [12] optimize(d::NonDifferentiable{Float64, Vector{Float64}}, initial_x::Vector{Float64}, method::NelderMead{Optim.AffineSimplexer, Optim.AdaptiveParameters}, options::Optim.Options{Float64, Nothing})\n",
      "    @ Optim C:\\Users\\saksh\\.julia\\packages\\Optim\\6Lpjy\\src\\multivariate\\optimize\\optimize.jl:36\n",
      " [13] optimize(f::Function, initial_x::Vector{Float64}; inplace::Bool, autodiff::Symbol, kwargs::Base.Pairs{Symbol, Union{}, Tuple{}, NamedTuple{(), Tuple{}}})\n",
      "    @ Optim C:\\Users\\saksh\\.julia\\packages\\Optim\\6Lpjy\\src\\multivariate\\optimize\\interface.jl:90\n",
      " [14] optimize\n",
      "    @ C:\\Users\\saksh\\.julia\\packages\\Optim\\6Lpjy\\src\\multivariate\\optimize\\interface.jl:84 [inlined]\n",
      " [15] get_order_parameter(model::MeanField, t::Float64, mu::Float64, V::Int64, z::Int64)\n",
      "    @ Main c:\\Users\\saksh\\Documents\\code-repo\\Projects\\Thesis\\src\\Solving_eBHM\\MFT.ipynb:25\n",
      " [16] top-level scope\n",
      "    @ c:\\Users\\saksh\\Documents\\code-repo\\Projects\\Thesis\\src\\Solving_eBHM\\MFT.ipynb:12\n",
      " [17] eval\n",
      "    @ .\\boot.jl:373 [inlined]\n",
      " [18] include_string(mapexpr::typeof(REPL.softscope), mod::Module, code::String, filename::String)\n",
      "    @ Base .\\loading.jl:1196\n",
      " [19] #invokelatest#2\n",
      "    @ .\\essentials.jl:716 [inlined]\n",
      " [20] invokelatest\n",
      "    @ .\\essentials.jl:714 [inlined]\n",
      " [21] (::VSCodeServer.var\"#164#165\"{VSCodeServer.NotebookRunCellArguments, String})()\n",
      "    @ VSCodeServer c:\\Users\\saksh\\.vscode\\extensions\\julialang.language-julia-1.6.24\\scripts\\packages\\VSCodeServer\\src\\serve_notebook.jl:19\n",
      " [22] withpath(f::VSCodeServer.var\"#164#165\"{VSCodeServer.NotebookRunCellArguments, String}, path::String)\n",
      "    @ VSCodeServer c:\\Users\\saksh\\.vscode\\extensions\\julialang.language-julia-1.6.24\\scripts\\packages\\VSCodeServer\\src\\repl.jl:184\n",
      " [23] notebook_runcell_request(conn::VSCodeServer.JSONRPC.JSONRPCEndpoint{Base.PipeEndpoint, Base.PipeEndpoint}, params::VSCodeServer.NotebookRunCellArguments)\n",
      "    @ VSCodeServer c:\\Users\\saksh\\.vscode\\extensions\\julialang.language-julia-1.6.24\\scripts\\packages\\VSCodeServer\\src\\serve_notebook.jl:13\n",
      " [24] dispatch_msg(x::VSCodeServer.JSONRPC.JSONRPCEndpoint{Base.PipeEndpoint, Base.PipeEndpoint}, dispatcher::VSCodeServer.JSONRPC.MsgDispatcher, msg::Dict{String, Any})\n",
      "    @ VSCodeServer.JSONRPC c:\\Users\\saksh\\.vscode\\extensions\\julialang.language-julia-1.6.24\\scripts\\packages\\JSONRPC\\src\\typed.jl:67\n",
      " [25] serve_notebook(pipename::String, outputchannel_logger::Base.CoreLogging.SimpleLogger; crashreporting_pipename::String)\n",
      "    @ VSCodeServer c:\\Users\\saksh\\.vscode\\extensions\\julialang.language-julia-1.6.24\\scripts\\packages\\VSCodeServer\\src\\serve_notebook.jl:136\n",
      " [26] top-level scope\n",
      "    @ c:\\Users\\saksh\\.vscode\\extensions\\julialang.language-julia-1.6.24\\scripts\\notebook\\notebook.jl:32\n",
      " [27] include(mod::Module, _path::String)\n",
      "    @ Base .\\Base.jl:418\n",
      " [28] exec_options(opts::Base.JLOptions)\n",
      "    @ Base .\\client.jl:292\n",
      " [29] _start()\n",
      "    @ Base .\\client.jl:495"
     ]
    }
   ],
   "source": [
    "model = MeanField(10)\n",
    "\n",
    "z, size = 2, 100\n",
    "t = range(start = 0, stop = 0.1, length = size)\n",
    "mu = range(start = 0, stop = 3, length = size)\n",
    "V = 1\n",
    "\n",
    "order_param = zeros((size, size, 2))\n",
    "num_particles = zeros((size, size))\n",
    "\n",
    "for k1 in 1:size, k2 in 1:size\n",
    "    order_param[k2, k1, :] .= abs.(get_order_parameter(model, t[k1], mu[k2], V, z))\n",
    "    num_particles[k2, k1] = abs.(get_num_particles(model, t[k1], mu[k2], V, z))\n",
    "end\n"
   ]
  },
  {
   "cell_type": "code",
   "execution_count": 41,
   "metadata": {},
   "outputs": [],
   "source": []
  },
  {
   "cell_type": "code",
   "execution_count": null,
   "metadata": {},
   "outputs": [],
   "source": []
  }
 ],
 "metadata": {
  "kernelspec": {
   "display_name": "Julia 1.8.0",
   "language": "julia",
   "name": "julia-1.8"
  },
  "language_info": {
   "file_extension": ".jl",
   "mimetype": "application/julia",
   "name": "julia",
   "version": "1.8.0"
  },
  "orig_nbformat": 4
 },
 "nbformat": 4,
 "nbformat_minor": 2
}
